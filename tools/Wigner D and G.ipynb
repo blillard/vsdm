{
 "cells": [
  {
   "cell_type": "markdown",
   "id": "cb1e9b27-68a8-4233-8cef-b7c707ffaa20",
   "metadata": {},
   "source": [
    "# Checking the values of Wigner D and G matrices"
   ]
  },
  {
   "cell_type": "markdown",
   "id": "2aaafb1b-88e0-4b4c-8540-82763f2a6601",
   "metadata": {},
   "source": [
    "### Definition of Wigner D\n",
    "I define the Wigner D matrix as $D^{(\\ell)}_{m',m}(R) = \\langle \\ell m'| R |\\ell m\\rangle$, with $R$ an active rotation acting on the function $|\\ell m\\rangle$, a complex spherical harmonic: $$ R \\cdot |\\ell m\\rangle = \\sum_{m'} D_{m' m}^{(\\ell)}(R) |\\ell m'\\rangle,$$ where $R \\cdot Y_{\\ell}^{m}(\\hat x) = Y_\\ell^m(R^{-1} \\hat x)$.\n",
    "\n",
    "The test function vsdm.testD_lm calculates $Y_\\ell^m(R^{-1} \\hat x)$ directly, and compares it to the sum $\\sum_{m'} M_{m' m}^{(\\ell)}(R) |\\ell m'\\rangle$, for matrices $M_{ij} = D_{ij}$, $M_{ij} = D_{ij}^\\star$, $M_{ij} = D_{ji}$, $M_{ij} = D_{ji}^\\star$, to see which (if any) of these results match. In the current version (v1.0.14) of 'spherical', the object returned by Wigner.D(l, m, mp) is the complex conjugate of D(l, m, mp), $M_{ij} = D_{ij}^\\star$. To adjust for this, the calculation of $G^{(\\ell)}_{m, m'}$ undoes the complex conjugation before assembling $G^{(\\ell)}$. The test function vsdm.testG_lm verifies whether this has been done correctly, by calculating $$ R \\cdot |\\ell m\\rangle = \\sum_{m'} G_{m' m}^{(\\ell)}(R) |\\ell m'\\rangle,$$ for real spherical harmonics $|\\ell m \\rangle = Y_{\\ell m}$. \n",
    "\n",
    "Rotations are implemented using quaternions. For a rotation of $\\eta$ about the axis $\\hat n$, the quaternion $$R = \\left( \\cos(\\eta/2) ,~ \\sin(\\eta/2) \\cdot \\hat n \\right)$$ rotates imaginary vectors $\\vec v = x i + yj + zk$ to their image $R \\vec v$ as: $$R \\vec v = R \\vec v R^{-1}.$$"
   ]
  },
  {
   "cell_type": "code",
   "execution_count": 1,
   "id": "c7118c05-34ec-47f4-9081-1a79bd9e1f20",
   "metadata": {},
   "outputs": [
    {
     "data": {
      "text/plain": [
       "'0.3.3'"
      ]
     },
     "execution_count": 1,
     "metadata": {},
     "output_type": "execute_result"
    }
   ],
   "source": [
    "import numpy as np\n",
    "from spherical import Wigner \n",
    "import quaternionic\n",
    "import sys\n",
    "import time \n",
    "# sys.path.insert(0,'../') #load the local version of vsdm\n",
    "import vsdm \n",
    "\n",
    "vsdm.__version__"
   ]
  },
  {
   "cell_type": "code",
   "execution_count": 2,
   "id": "5f67524f-0a36-4225-b92d-13ada0b36691",
   "metadata": {},
   "outputs": [
    {
     "name": "stdout",
     "output_type": "stream",
     "text": [
      "Ylm(R^(-1) * x): -0.46737809071889735\n",
      "(M) G_(k,m)*Ylk(x): -0.467378090718897\n",
      "(M) difference: -3.3306690738754696e-16\n",
      "(V) G_(k,m)*Ylk(x): -0.467378090718897\n",
      "(V) difference: -3.3306690738754696e-16\n"
     ]
    },
    {
     "data": {
      "text/plain": [
       "(-3.3306690738754696e-16, -3.3306690738754696e-16)"
      ]
     },
     "execution_count": 2,
     "metadata": {},
     "output_type": "execute_result"
    }
   ],
   "source": [
    "vsdm.testG_lm(13, -3, printout=True)"
   ]
  },
  {
   "cell_type": "code",
   "execution_count": 3,
   "id": "bc2d2bbf-a429-481d-b861-144b584f9561",
   "metadata": {},
   "outputs": [
    {
     "name": "stdout",
     "output_type": "stream",
     "text": [
      "Ylm(R^(-1) * x): (0.044294389411309754+0.27431158162808184j)\n",
      "D_(k,m)*Ylk(x): (-0.14762269043440543+0.054155799814597214j)\n",
      "D_(m,k)*Ylk(x): (-0.3209041050209531+0.17091069670545433j)\n",
      "D*_(k,m)*Ylk(x): (0.044294389411310364+0.27431158162807856j)\n",
      "D*_(m,k)*Ylk(x): (-0.12411257112208327+0.20899457712434355j)\n",
      "differences:\n",
      "\tD: (0.19191707984571518+0.2201557818134846j)\n",
      "\tD_T: (0.3651984944322629+0.1034008849226275j)\n",
      "\tD_star: (-6.106226635438361e-16+3.2751579226442118e-15j)\n",
      "\tD_dagger: (0.16840696053339302+0.06531700450373829j)\n",
      "version of Wigner D(R) provided by spherical.D(R): ['D_star']\n"
     ]
    },
    {
     "data": {
      "text/plain": [
       "['D_star']"
      ]
     },
     "execution_count": 3,
     "metadata": {},
     "output_type": "execute_result"
    }
   ],
   "source": [
    "vsdm.testD_lm(60, -1, printout=True)"
   ]
  },
  {
   "cell_type": "code",
   "execution_count": 4,
   "id": "cbe49510-8d02-4514-8cee-746f912542b8",
   "metadata": {},
   "outputs": [],
   "source": [
    "def mxG_l(gvec, l, lmod=1):\n",
    "    ix_start = vsdm.Gindex(l, -l, -l, lmod=lmod)\n",
    "    ix_end = vsdm.Gindex(l, l, l, lmod=lmod)\n",
    "    return gvec[ix_start:ix_end+1].reshape((2*l+1, 2*l+1))\n"
   ]
  },
  {
   "cell_type": "code",
   "execution_count": 7,
   "id": "2f4c30ac-34b1-497e-8845-97667d0677f5",
   "metadata": {},
   "outputs": [
    {
     "data": {
      "text/plain": [
       "array([[-0.70114943,  0.25287356,  0.66666667],\n",
       "       [ 0.71264368,  0.2183908 ,  0.66666667],\n",
       "       [ 0.02298851,  0.94252874, -0.33333333]])"
      ]
     },
     "execution_count": 7,
     "metadata": {},
     "output_type": "execute_result"
    }
   ],
   "source": [
    "wigG = vsdm.WignerG(7)\n",
    "R = quaternionic.array([2, 5, 3, 7]).normalized\n",
    "wG = wigG.G(R)\n",
    "mxG_l(wG, 1)"
   ]
  },
  {
   "cell_type": "code",
   "execution_count": null,
   "id": "b3d99058-cc01-4cd5-9ce8-993d6199e514",
   "metadata": {},
   "outputs": [],
   "source": []
  }
 ],
 "metadata": {
  "kernelspec": {
   "display_name": "Python 3 (ipykernel)",
   "language": "python",
   "name": "python3"
  },
  "language_info": {
   "codemirror_mode": {
    "name": "ipython",
    "version": 3
   },
   "file_extension": ".py",
   "mimetype": "text/x-python",
   "name": "python",
   "nbconvert_exporter": "python",
   "pygments_lexer": "ipython3",
   "version": "3.10.9"
  }
 },
 "nbformat": 4,
 "nbformat_minor": 5
}
