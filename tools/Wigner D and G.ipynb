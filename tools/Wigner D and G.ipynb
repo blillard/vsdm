{
 "cells": [
  {
   "cell_type": "markdown",
   "id": "cb1e9b27-68a8-4233-8cef-b7c707ffaa20",
   "metadata": {},
   "source": [
    "# Checking the values of Wigner D and G matrices"
   ]
  },
  {
   "cell_type": "markdown",
   "id": "2aaafb1b-88e0-4b4c-8540-82763f2a6601",
   "metadata": {},
   "source": [
    "### Definition of Wigner D\n",
    "I define the Wigner D matrix as $D^{(\\ell)}_{m',m}(R) = \\langle \\ell m'| R |\\ell m\\rangle$, with $R$ an active rotation acting on the function $|\\ell m\\rangle$, a complex spherical harmonic: $$ R \\cdot |\\ell m\\rangle = \\sum_{m'} D_{m' m}^{(\\ell)}(R) |\\ell m'\\rangle,$$ where $R \\cdot Y_{\\ell}^{m}(\\hat x) = Y_\\ell^m(R^{-1} \\hat x)$.\n",
    "\n",
    "The test function vsdm.testD_lm calculates $Y_\\ell^m(R^{-1} \\hat x)$ directly, and compares it to the sum $\\sum_{m'} M_{m' m}^{(\\ell)}(R) |\\ell m'\\rangle$, for matrices $M_{ij} = D_{ij}$, $M_{ij} = D_{ij}^\\star$, $M_{ij} = D_{ji}$, $M_{ij} = D_{ji}^\\star$, to see which (if any) of these results match. In the current version (v1.0.14) of 'spherical', the object returned by Wigner.D(l, m, mp) is the complex conjugate of D(l, m, mp), $M_{ij} = D_{ij}^\\star$. To adjust for this, the calculation of $G^{(\\ell)}_{m, m'}$ undoes the complex conjugation before assembling $G^{(\\ell)}$. The test function vsdm.testG_lm verifies whether this has been done correctly, by calculating $$ R \\cdot |\\ell m\\rangle = \\sum_{m'} G_{m' m}^{(\\ell)}(R) |\\ell m'\\rangle,$$ for real spherical harmonics $|\\ell m \\rangle = Y_{\\ell m}$. \n",
    "\n",
    "Rotations are implemented using quaternions. For a rotation of $\\eta$ about the axis $\\hat n$, the quaternion $$R = \\left( \\cos(\\eta/2) ,~ \\sin(\\eta/2) \\cdot \\hat n \\right)$$ rotates imaginary vectors $\\vec v = x i + yj + zk$ to their image $R \\vec v$ as: $$R \\vec v = R \\vec v R^{-1}.$$"
   ]
  },
  {
   "cell_type": "code",
   "execution_count": 1,
   "id": "c7118c05-34ec-47f4-9081-1a79bd9e1f20",
   "metadata": {},
   "outputs": [
    {
     "data": {
      "text/plain": [
       "'0.3.5'"
      ]
     },
     "execution_count": 1,
     "metadata": {},
     "output_type": "execute_result"
    }
   ],
   "source": [
    "import numpy as np\n",
    "from spherical import Wigner \n",
    "import quaternionic\n",
    "import sys\n",
    "import time \n",
    "# sys.path.insert(0,'../') #load the local version of vsdm\n",
    "import vsdm \n",
    "import numba \n",
    "\n",
    "vsdm.__version__"
   ]
  },
  {
   "cell_type": "code",
   "execution_count": 2,
   "id": "5f67524f-0a36-4225-b92d-13ada0b36691",
   "metadata": {},
   "outputs": [
    {
     "name": "stdout",
     "output_type": "stream",
     "text": [
      "Ylm(R^(-1) * x): -0.46737809071889735\n",
      "(M) G_(k,m)*Ylk(x): -0.467378090718897\n",
      "(M) difference: -3.3306690738754696e-16\n",
      "(V) G_(k,m)*Ylk(x): -0.467378090718897\n",
      "(V) difference: -3.3306690738754696e-16\n"
     ]
    },
    {
     "data": {
      "text/plain": [
       "(-3.3306690738754696e-16, -3.3306690738754696e-16)"
      ]
     },
     "execution_count": 2,
     "metadata": {},
     "output_type": "execute_result"
    }
   ],
   "source": [
    "vsdm.testG_lm(13, -3, printout=True)"
   ]
  },
  {
   "cell_type": "code",
   "execution_count": 3,
   "id": "bc2d2bbf-a429-481d-b861-144b584f9561",
   "metadata": {},
   "outputs": [
    {
     "name": "stdout",
     "output_type": "stream",
     "text": [
      "Ylm(R^(-1) * x): (0.044294389411309754+0.27431158162808184j)\n",
      "D_(k,m)*Ylk(x): (-0.14762269043440543+0.054155799814597214j)\n",
      "D_(m,k)*Ylk(x): (-0.3209041050209531+0.17091069670545433j)\n",
      "D*_(k,m)*Ylk(x): (0.044294389411310364+0.27431158162807856j)\n",
      "D*_(m,k)*Ylk(x): (-0.12411257112208327+0.20899457712434355j)\n",
      "differences:\n",
      "\tD: (0.19191707984571518+0.2201557818134846j)\n",
      "\tD_T: (0.3651984944322629+0.1034008849226275j)\n",
      "\tD_star: (-6.106226635438361e-16+3.2751579226442118e-15j)\n",
      "\tD_dagger: (0.16840696053339302+0.06531700450373829j)\n",
      "version of Wigner D(R) provided by spherical.D(R): ['D_star']\n"
     ]
    },
    {
     "data": {
      "text/plain": [
       "['D_star']"
      ]
     },
     "execution_count": 3,
     "metadata": {},
     "output_type": "execute_result"
    }
   ],
   "source": [
    "vsdm.testD_lm(60, -1, printout=True)"
   ]
  },
  {
   "cell_type": "code",
   "execution_count": 4,
   "id": "cbe49510-8d02-4514-8cee-746f912542b8",
   "metadata": {},
   "outputs": [],
   "source": [
    "def mxG_l(gvec, l, lmod=1):\n",
    "    ix_start = vsdm.Gindex(l, -l, -l, lmod=lmod)\n",
    "    ix_end = vsdm.Gindex(l, l, l, lmod=lmod)\n",
    "    return gvec[ix_start:ix_end+1].reshape((2*l+1, 2*l+1))\n"
   ]
  },
  {
   "cell_type": "code",
   "execution_count": 5,
   "id": "2f4c30ac-34b1-497e-8845-97667d0677f5",
   "metadata": {},
   "outputs": [
    {
     "data": {
      "text/plain": [
       "array([[-0.70114943,  0.25287356,  0.66666667],\n",
       "       [ 0.71264368,  0.2183908 ,  0.66666667],\n",
       "       [ 0.02298851,  0.94252874, -0.33333333]])"
      ]
     },
     "execution_count": 5,
     "metadata": {},
     "output_type": "execute_result"
    }
   ],
   "source": [
    "wigG = vsdm.WignerG(7)\n",
    "R = quaternionic.array([2, 5, 3, 7]).normalized\n",
    "wG = wigG.G(R)\n",
    "mxG_l(wG, 1)"
   ]
  },
  {
   "cell_type": "markdown",
   "id": "16ed46d2-0980-490f-acba-49805d3404aa",
   "metadata": {},
   "source": [
    "## Checking Speed"
   ]
  },
  {
   "cell_type": "code",
   "execution_count": 6,
   "id": "43068b88-72a5-4634-b445-8288faf0d616",
   "metadata": {},
   "outputs": [],
   "source": [
    "@numba.jit(nopython=True)\n",
    "def dot_GR_K(gR_lmk, k_lmk, out):\n",
    "    n_r = len(gR_lmk)\n",
    "    n_i = len(k_lmk)\n",
    "    for r in range(n_r):\n",
    "        for i in range(n_i):\n",
    "            out[r] += gR_lmk[r, i] * k_lmk[i]\n",
    "\n",
    "def testSpeed(N):\n",
    "    n_segs = 30\n",
    "    seg_len = 200\n",
    "    mxG = np.random.rand(N, n_segs*seg_len)\n",
    "    mxH = np.random.rand(n_segs*seg_len)\n",
    "    start_end_ix = [[j, j+seg_len] for j in range(0, n_segs*seg_len, seg_len)]\n",
    "    # current version: \n",
    "    t0 = time.time()\n",
    "    mu_l = []\n",
    "    for vecG in mxG:\n",
    "        mu_l_R = []\n",
    "        for ix in range(n_segs):\n",
    "            start, end = start_end_ix[ix]\n",
    "            g_l = vecG[start:end]\n",
    "            h_l = mxH[start:end]\n",
    "            mu_l_R += [g_l @ h_l]\n",
    "        mu_l += [mu_l_R]\n",
    "    tCurrent = time.time() - t0 \n",
    "    print('array slicing version:', tCurrent)\n",
    "    # alternative slicing: \n",
    "    t0 = time.time()\n",
    "    mu_l = np.zeros((N, n_segs))\n",
    "    for l in range(len(start_end_ix)):\n",
    "        start, end = start_end_ix[l]\n",
    "        g_l = mxG[:, start:end]\n",
    "        h_l = mxH[start:end]\n",
    "        mu_l[:, l] = g_l @ h_l\n",
    "    tAltSlice = time.time() - t0\n",
    "    print('alt slicing version:', tAltSlice)\n",
    "    # alternative:\n",
    "    t0 = time.time()\n",
    "    dH = {}\n",
    "    dG = {}\n",
    "    for l in range(n_segs):\n",
    "        start, end = start_end_ix[l]\n",
    "        dH[l] = mxH[start:end]\n",
    "        dG[l] = mxG[:, start:end]\n",
    "    tPrep = time.time() - t0 \n",
    "    print('prep time for dict:', tPrep)\n",
    "    # dot product within dict:\n",
    "    t0 = time.time()\n",
    "    mu_l = np.zeros((N, n_segs))\n",
    "    for l in range(n_segs):\n",
    "        mu_l[:, l] = dG[l] @ dH[l]\n",
    "    tDict = time.time() - t0\n",
    "    print('dictionary version:', tDict)\n",
    "    # jit version \n",
    "    t0 = time.time()\n",
    "    mu_l = np.zeros((N, n_segs))\n",
    "    for l in range(n_segs):\n",
    "        mu_Rl = np.zeros(N)\n",
    "        dot_GR_K(dG[l], dH[l], mu_Rl)\n",
    "        mu_l[:,l] = mu_Rl\n",
    "    tJIT = time.time() - t0\n",
    "    print('dict + jit version:', tJIT)\n",
    "    return tCurrent, tJIT\n",
    "    \n"
   ]
  },
  {
   "cell_type": "code",
   "execution_count": 7,
   "id": "b129d81a-b1a3-4182-a872-7e8ff548b672",
   "metadata": {},
   "outputs": [],
   "source": [
    "vG = np.random.rand(14, 12)\n",
    "vK = np.random.rand(12)\n",
    "out = np.zeros(14)\n",
    "dot_GR_K(vG, vK, out)"
   ]
  },
  {
   "cell_type": "code",
   "execution_count": 8,
   "id": "100a4462-8659-4d83-8bcc-6abd553ece9c",
   "metadata": {},
   "outputs": [
    {
     "name": "stdout",
     "output_type": "stream",
     "text": [
      "array slicing version: 0.5322411060333252\n",
      "alt slicing version: 0.027164220809936523\n",
      "prep time for dict: 3.2901763916015625e-05\n",
      "dictionary version: 0.02332282066345215\n",
      "dict + jit version: 0.18120312690734863\n"
     ]
    },
    {
     "data": {
      "text/plain": [
       "(0.5322411060333252, 0.18120312690734863)"
      ]
     },
     "execution_count": 8,
     "metadata": {},
     "output_type": "execute_result"
    }
   ],
   "source": [
    "testSpeed(10000)"
   ]
  },
  {
   "cell_type": "code",
   "execution_count": 9,
   "id": "0a2e8435-2fa4-42f5-80f2-b02015003521",
   "metadata": {},
   "outputs": [],
   "source": [
    "def speedRunG(N, ellMax, lmod=2):\n",
    "    wG = vsdm.WignerG(ellMax, lmod=lmod)\n",
    "    t0 = time.time()\n",
    "    for i in range(N):\n",
    "        R = quaternionic.array(np.random.rand(4)).normalized\n",
    "        wG.G(R, save=True)\n",
    "    tG = time.time() - t0 \n",
    "    print('tWignerG[{}]:'.format(ellMax), tG)\n",
    "    wigG = np.array(wG.G_array)\n",
    "    fakeK = wigG[0] * np.pi\n",
    "    # run through list\n",
    "    t0 = time.time()\n",
    "    mu = np.zeros(N)\n",
    "    for r in range(N):\n",
    "        mu[r] = wigG[r] @ fakeK \n",
    "    tR = time.time() - t0\n",
    "    print('tRotations:', tR)\n",
    "    return tG/N , tR/N \n",
    "\n",
    "#"
   ]
  },
  {
   "cell_type": "code",
   "execution_count": 10,
   "id": "510a36b9-81cb-48d5-bcdf-dd5232e25b7d",
   "metadata": {},
   "outputs": [
    {
     "name": "stdout",
     "output_type": "stream",
     "text": [
      "tWignerG[12]: 2.6440680027008057\n",
      "tRotations: 0.003094911575317383\n",
      "tWignerG[12]: 1.4985098838806152\n",
      "tRotations: 0.0020771026611328125\n",
      "tWignerG[16]: 4.90713095664978\n",
      "tRotations: 0.004519939422607422\n",
      "tWignerG[16]: 2.71913480758667\n",
      "tRotations: 0.003072023391723633\n",
      "tWignerG[24]: 13.22105598449707\n",
      "tRotations: 0.051187992095947266\n",
      "tWignerG[24]: 7.057474851608276\n",
      "tRotations: 0.04914093017578125\n",
      "tWignerG[36]: 38.71676802635193\n",
      "tRotations: 0.27673983573913574\n",
      "tWignerG[36]: 20.58334732055664\n",
      "tRotations: 0.043900251388549805\n"
     ]
    }
   ],
   "source": [
    "timesGR = {}\n",
    "for l in [12, 16, 24, 36]:\n",
    "    for lmod in [1, 2]:\n",
    "        timesGR[(l, lmod)] = speedRunG(1000, l, lmod=lmod)"
   ]
  },
  {
   "cell_type": "code",
   "execution_count": 11,
   "id": "48c7d999-caef-45ab-ba4a-446cd5df3087",
   "metadata": {},
   "outputs": [
    {
     "name": "stdout",
     "output_type": "stream",
     "text": [
      "(12, 1):   tG: 2.644 ms,\ttR: 3.095 us\n",
      "(12, 2):   tG: 1.499 ms,\ttR: 2.077 us\n",
      "(16, 1):   tG: 4.907 ms,\ttR: 4.520 us\n",
      "(16, 2):   tG: 2.719 ms,\ttR: 3.072 us\n",
      "(24, 1):   tG: 13.221 ms,\ttR: 51.188 us\n",
      "(24, 2):   tG: 7.057 ms,\ttR: 49.141 us\n",
      "(36, 1):   tG: 38.717 ms,\ttR: 276.740 us\n",
      "(36, 2):   tG: 20.583 ms,\ttR: 43.900 us\n"
     ]
    }
   ],
   "source": [
    "for (l, lmod) in timesGR.keys():\n",
    "    tG, tR = timesGR[(l, lmod)]\n",
    "    print('{}:   tG: {:.3f} ms,\\ttR: {:.3f} us'.format((l, lmod), tG*1e3, tR*1e6))"
   ]
  },
  {
   "cell_type": "markdown",
   "id": "fe52dd26-5680-4dba-a92d-68a79abe9042",
   "metadata": {},
   "source": [
    "Note that the size of the WignerG object increases as $\\ell_{max}^3$:"
   ]
  },
  {
   "cell_type": "code",
   "execution_count": 12,
   "id": "baa8b21c-6aa5-4072-ab85-1b94ff01bc9e",
   "metadata": {},
   "outputs": [
    {
     "data": {
      "text/plain": [
       "[1, 1771, 12341, 39711, 91881, 176851, 302621]"
      ]
     },
     "execution_count": 12,
     "metadata": {},
     "output_type": "execute_result"
    }
   ],
   "source": [
    "[vsdm.Gindex(l, l, l, lmod=1)+1 for l in range(0, 61, 10)]"
   ]
  },
  {
   "cell_type": "code",
   "execution_count": null,
   "id": "b2c0c462-7c11-4849-87d3-77010838f6fe",
   "metadata": {},
   "outputs": [],
   "source": []
  }
 ],
 "metadata": {
  "kernelspec": {
   "display_name": "Python 3 (ipykernel)",
   "language": "python",
   "name": "python3"
  },
  "language_info": {
   "codemirror_mode": {
    "name": "ipython",
    "version": 3
   },
   "file_extension": ".py",
   "mimetype": "text/x-python",
   "name": "python",
   "nbconvert_exporter": "python",
   "pygments_lexer": "ipython3",
   "version": "3.10.9"
  }
 },
 "nbformat": 4,
 "nbformat_minor": 5
}
